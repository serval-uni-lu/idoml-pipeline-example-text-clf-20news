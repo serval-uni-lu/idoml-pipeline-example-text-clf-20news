{
 "cells": [
  {
   "cell_type": "markdown",
   "id": "e1f98a1d-f224-4b07-90d9-fe38c7f5c93a",
   "metadata": {},
   "source": [
    "# Dependency management"
   ]
  },
  {
   "cell_type": "code",
   "execution_count": null,
   "id": "c18a12b7-c8bf-4e2f-81d7-e17b00567a2a",
   "metadata": {
    "tags": []
   },
   "outputs": [],
   "source": [
    "import pandas as pd\n",
    "import os\n",
    "import mlflow"
   ]
  },
  {
   "cell_type": "code",
   "execution_count": null,
   "id": "c42b68e5-596b-4324-a089-723b0a4c8a75",
   "metadata": {
    "tags": []
   },
   "outputs": [],
   "source": [
    "from sklearn.feature_extraction.text import TfidfVectorizer, CountVectorizer, TfidfTransformer\n",
    "from sklearn.metrics import (accuracy_score, mean_absolute_error,\n",
    "                             precision_score, recall_score, matthews_corrcoef)\n",
    "from sklearn.compose import ColumnTransformer\n",
    "from sklearn.model_selection import train_test_split\n",
    "from sklearn.pipeline import Pipeline\n",
    "from sklearn.model_selection import GridSearchCV\n",
    "from sklearn.linear_model import LogisticRegression"
   ]
  },
  {
   "cell_type": "markdown",
   "id": "a10f3bc7-4a97-4b13-a532-cfa27b443025",
   "metadata": {},
   "source": [
    "# Minio Bucket setup"
   ]
  },
  {
   "cell_type": "code",
   "execution_count": null,
   "id": "ca1d5a82-aa18-4d13-891a-5c9d97f06205",
   "metadata": {
    "tags": []
   },
   "outputs": [],
   "source": [
    "MINIO_ENDPOINT = os.environ['MINIO_ENDPOINT']"
   ]
  },
  {
   "cell_type": "code",
   "execution_count": null,
   "id": "a6dacbcc-43bb-42f0-a3a3-de9dacc9397e",
   "metadata": {
    "tags": []
   },
   "outputs": [],
   "source": [
    "bucket_name = 'datasets'\n",
    "filepath = f'{bucket_name}/20news/train.csv'"
   ]
  },
  {
   "cell_type": "markdown",
   "id": "964602a7-f5dc-4dce-bdf7-cafcb93168b3",
   "metadata": {},
   "source": [
    "# Load pandas dataframe from S3"
   ]
  },
  {
   "cell_type": "code",
   "execution_count": null,
   "id": "a8ab206c-e9d6-4742-896e-7078e296aafb",
   "metadata": {
    "tags": []
   },
   "outputs": [],
   "source": [
    "df = pd.read_csv(\n",
    "    f's3://{filepath}',\n",
    "    storage_options={\n",
    "        'client_kwargs': {'endpoint_url': MINIO_ENDPOINT}\n",
    "    }\n",
    ")"
   ]
  },
  {
   "cell_type": "markdown",
   "id": "61a07fd3-a6c7-4993-8eb4-2abe12901c87",
   "metadata": {},
   "source": [
    "# Start your code here"
   ]
  },
  {
   "cell_type": "code",
   "execution_count": null,
   "id": "00dfc54e-5603-48ee-88b3-7f4f54ad43d0",
   "metadata": {
    "tags": []
   },
   "outputs": [],
   "source": [
    "text_clf = Pipeline([\n",
    "    ('vect', CountVectorizer()),\n",
    "    ('tfidf', TfidfTransformer()),\n",
    "    ('clf', LogisticRegression()),\n",
    "])"
   ]
  },
  {
   "cell_type": "code",
   "execution_count": null,
   "id": "3f8c31cd-4527-4996-b144-af857864014e",
   "metadata": {
    "tags": []
   },
   "outputs": [],
   "source": [
    "parameters = {\n",
    "    'vect__ngram_range': [(1, 1), (1, 2)],\n",
    "    'tfidf__use_idf': (True, False),\n",
    "    'clf__C': [.1, 1, 5, 10, 50, 100],\n",
    "    'clf__class_weight': ['balanced', None],\n",
    "}"
   ]
  },
  {
   "cell_type": "code",
   "execution_count": null,
   "id": "252aa3b8-ca5b-41fc-bf60-9afb17be0403",
   "metadata": {
    "tags": []
   },
   "outputs": [],
   "source": [
    "gs_clf = GridSearchCV(\n",
    "    text_clf, \n",
    "    parameters, \n",
    "    scoring=['accuracy', 'f1_macro'],\n",
    "    refit='f1_macro',\n",
    "    cv=5, \n",
    "    verbose=4,\n",
    "    n_jobs=-1,\n",
    ")"
   ]
  },
  {
   "cell_type": "code",
   "execution_count": null,
   "id": "1f2ccfa2-eeb2-4755-8e21-949eaa3c5820",
   "metadata": {
    "tags": []
   },
   "outputs": [],
   "source": [
    "gs_clf.fit(df['text'], df['target'])"
   ]
  },
  {
   "cell_type": "code",
   "execution_count": null,
   "id": "81fe5fd6-389c-47e8-8780-f758491df4db",
   "metadata": {
    "tags": []
   },
   "outputs": [],
   "source": [
    "results = gs_clf.cv_results_"
   ]
  },
  {
   "cell_type": "code",
   "execution_count": null,
   "id": "20f1c9fa-2d76-4da9-9b57-289d5578449f",
   "metadata": {
    "tags": []
   },
   "outputs": [],
   "source": [
    "df_results = pd.DataFrame(results)"
   ]
  },
  {
   "cell_type": "markdown",
   "id": "68b20d4c-f4d9-4f53-8a30-2d6bb5070e39",
   "metadata": {},
   "source": [
    "## Log results into MLFlow"
   ]
  },
  {
   "cell_type": "code",
   "execution_count": null,
   "id": "15097fc9-8528-43dc-9f4c-6f8661a36775",
   "metadata": {
    "tags": []
   },
   "outputs": [],
   "source": [
    "client = mlflow.MlflowClient()"
   ]
  },
  {
   "cell_type": "code",
   "execution_count": null,
   "id": "a00878d2-942b-41ad-a672-bba1ad6a9927",
   "metadata": {
    "tags": []
   },
   "outputs": [],
   "source": [
    "mlflow.set_experiment('20news_clf')"
   ]
  },
  {
   "cell_type": "code",
   "execution_count": null,
   "id": "3a40988d-cff4-45b1-b873-8aa2d489aaef",
   "metadata": {
    "tags": []
   },
   "outputs": [],
   "source": [
    "with mlflow.start_run(run_name='LogisticRegression'):\n",
    "    for idex, row  in df_results.iterrows():\n",
    "        with mlflow.start_run(run_name=f'HP_{idex}', nested=True):\n",
    "            mlflow.log_params(row['params'])\n",
    "            for metric in gs_clf.scorer_.keys():\n",
    "                # print(metric, row[f'mean_test_{metric}'])\n",
    "                mlflow.log_metric(f'mean_{metric}', row[f'mean_test_{metric}'])\n",
    "                mlflow.log_metric(f'std_{metric}', row[f'std_test_{metric}'])\n",
    "            if gs_clf.best_index_ == idex:\n",
    "                this_run = mlflow.sklearn.log_model(gs_clf.best_estimator_, artifact_path='model')\n",
    "                client.set_tag(this_run.run_id, 'evaluated', False)"
   ]
  },
  {
   "cell_type": "code",
   "execution_count": null,
   "id": "7890f0b7-762a-44b6-8018-a85eff21f6f7",
   "metadata": {
    "tags": []
   },
   "outputs": [],
   "source": []
  },
  {
   "cell_type": "code",
   "execution_count": null,
   "id": "39a63364-79e5-42c7-932e-9a69b50736e6",
   "metadata": {},
   "outputs": [],
   "source": []
  },
  {
   "cell_type": "code",
   "execution_count": null,
   "id": "77547e5e-c5e2-47b4-9459-3fea895aefd4",
   "metadata": {},
   "outputs": [],
   "source": []
  }
 ],
 "metadata": {
  "kernelspec": {
   "display_name": "Python 3 (ipykernel)",
   "language": "python",
   "name": "python3"
  },
  "language_info": {
   "codemirror_mode": {
    "name": "ipython",
    "version": 3
   },
   "file_extension": ".py",
   "mimetype": "text/x-python",
   "name": "python",
   "nbconvert_exporter": "python",
   "pygments_lexer": "ipython3",
   "version": "3.12.2"
  }
 },
 "nbformat": 4,
 "nbformat_minor": 5
}
