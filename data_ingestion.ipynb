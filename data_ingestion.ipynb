{
 "cells": [
  {
   "cell_type": "code",
   "execution_count": null,
   "id": "75d7525c-6550-4416-953a-96d117f2c621",
   "metadata": {
    "tags": []
   },
   "outputs": [],
   "source": [
    "import sklearn\n",
    "import pandas as pd\n",
    "import os"
   ]
  },
  {
   "cell_type": "code",
   "execution_count": null,
   "id": "1165f2cd-f75a-430f-acfe-c8b06094b73a",
   "metadata": {
    "tags": []
   },
   "outputs": [],
   "source": [
    "from sklearn import datasets"
   ]
  },
  {
   "cell_type": "code",
   "execution_count": null,
   "id": "d3174d25-dcea-4c86-b033-8138c583048c",
   "metadata": {
    "tags": []
   },
   "outputs": [],
   "source": [
    "MINIO_ENDPOINT = os.environ.get('MINIO_ENDPOINT')"
   ]
  },
  {
   "cell_type": "code",
   "execution_count": null,
   "id": "0f90c905-614b-4aaf-bdce-0cbeeca6c439",
   "metadata": {
    "tags": []
   },
   "outputs": [],
   "source": [
    "newsgroups_train = datasets.fetch_20newsgroups(subset='train')"
   ]
  },
  {
   "cell_type": "code",
   "execution_count": null,
   "id": "fbf1b0af-a6c1-4d75-bad6-6883ab5fd84c",
   "metadata": {
    "tags": []
   },
   "outputs": [],
   "source": [
    "categories = ['alt.atheism', 'soc.religion.christian',\n",
    "              'comp.graphics', 'sci.med']"
   ]
  },
  {
   "cell_type": "code",
   "execution_count": null,
   "id": "323d288c-3697-4c77-8ee6-9ab266c74630",
   "metadata": {
    "tags": []
   },
   "outputs": [],
   "source": [
    "twenty_train = datasets.fetch_20newsgroups(subset='train',\n",
    "    categories=categories, shuffle=True, random_state=42)"
   ]
  },
  {
   "cell_type": "code",
   "execution_count": null,
   "id": "47c5fb42-2fb3-47a8-8e93-0ee9a329a6b8",
   "metadata": {
    "tags": []
   },
   "outputs": [],
   "source": [
    "dict_name = {}\n",
    "for i, name in enumerate(twenty_train.target_names):\n",
    "    dict_name[i] = name"
   ]
  },
  {
   "cell_type": "code",
   "execution_count": null,
   "id": "dc283f2a-a8ab-4d43-8604-e3b241fba15e",
   "metadata": {
    "tags": []
   },
   "outputs": [],
   "source": [
    "df = pd.DataFrame({'text': twenty_train.data, 'target': twenty_train.target})"
   ]
  },
  {
   "cell_type": "code",
   "execution_count": null,
   "id": "a6414673-77b2-4a01-bee5-5f0cd0ada04b",
   "metadata": {
    "tags": []
   },
   "outputs": [],
   "source": [
    "df['target'] = df['target'].replace(dict_name)"
   ]
  },
  {
   "cell_type": "code",
   "execution_count": null,
   "id": "1fc8207c-94ed-4421-9b6a-bb7110a20a05",
   "metadata": {
    "tags": []
   },
   "outputs": [],
   "source": [
    "df.to_csv(\n",
    "    f's3://datasets/20news/train.csv',\n",
    "    storage_options={\n",
    "        'client_kwargs': {'endpoint_url': MINIO_ENDPOINT}\n",
    "    },\n",
    "    index=False\n",
    ")"
   ]
  },
  {
   "cell_type": "code",
   "execution_count": null,
   "id": "8bb7022c-03b1-4b0d-86e4-5283372b1a59",
   "metadata": {
    "tags": []
   },
   "outputs": [],
   "source": [
    "twenty_test = datasets.fetch_20newsgroups(subset='test',\n",
    "    categories=categories, shuffle=True, random_state=42)"
   ]
  },
  {
   "cell_type": "code",
   "execution_count": null,
   "id": "e781f53a-4672-4018-8f01-6c8da8530a7a",
   "metadata": {},
   "outputs": [],
   "source": [
    "df = pd.DataFrame({'text': twenty_test.data, 'target': twenty_test.target})"
   ]
  },
  {
   "cell_type": "code",
   "execution_count": null,
   "id": "f93d248a-4afc-4549-bd13-2ae3d3120346",
   "metadata": {
    "tags": []
   },
   "outputs": [],
   "source": [
    "df['target'] = df['target'].replace(dict_name)"
   ]
  },
  {
   "cell_type": "code",
   "execution_count": null,
   "id": "f2191e9e-5504-4625-968c-b985e41f5b04",
   "metadata": {
    "tags": []
   },
   "outputs": [],
   "source": [
    "df.to_csv(\n",
    "    f's3://datasets/20news/test.csv',\n",
    "    storage_options={\n",
    "        'client_kwargs': {'endpoint_url': MINIO_ENDPOINT}\n",
    "    },\n",
    "    index=False\n",
    ")"
   ]
  },
  {
   "cell_type": "code",
   "execution_count": null,
   "id": "7c2f8500-24ef-4fdf-ba56-0a743d1ba87a",
   "metadata": {},
   "outputs": [],
   "source": []
  },
  {
   "cell_type": "code",
   "execution_count": null,
   "id": "ede9c986-0ae5-43af-93da-11748e3d24bb",
   "metadata": {},
   "outputs": [],
   "source": []
  }
 ],
 "metadata": {
  "kernelspec": {
   "display_name": "Python 3 (ipykernel)",
   "language": "python",
   "name": "python3"
  },
  "language_info": {
   "codemirror_mode": {
    "name": "ipython",
    "version": 3
   },
   "file_extension": ".py",
   "mimetype": "text/x-python",
   "name": "python",
   "nbconvert_exporter": "python",
   "pygments_lexer": "ipython3",
   "version": "3.12.2"
  }
 },
 "nbformat": 4,
 "nbformat_minor": 5
}
